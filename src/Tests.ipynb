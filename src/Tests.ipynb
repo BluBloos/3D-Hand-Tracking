{
 "cells": [
  {
   "cell_type": "markdown",
   "metadata": {},
   "source": [
    "This file exists for the purpose of performing tests on the different components of our codebase to ensure that we are doing nothing wrong. \n",
    "\n",
    "In the pursuit of a working model, we want to make sure there are as little wrong things as possible. Such that the reason our model is not working is simply due to poorly conceptualized machine learning. "
   ]
  },
  {
   "cell_type": "markdown",
   "metadata": {},
   "source": [
    "# Rodrigues Unit Test"
   ]
  },
  {
   "cell_type": "code",
   "execution_count": 6,
   "metadata": {},
   "outputs": [
    {
     "name": "stdout",
     "output_type": "stream",
     "text": [
      "\u001b[96mrodrigues OK\u001b[0m\n"
     ]
    }
   ],
   "source": [
    "from rodrigues import rodrigues\n",
    "import numpy as np\n",
    "from qmindcolors import cstr\n",
    "from qmindcolors import rstr\n",
    "\n",
    "EPSILON = 1e-7\n",
    "\n",
    "def utest_rodrigues():\n",
    "    input = np.array([[0.4, 0.4, 0.4]], dtype=np.float32)\n",
    "    expected = np.array([\n",
    "        [0.8462985, -0.2919085,  0.4456100],\n",
    "        [0.4456100,  0.8462985, -0.2919085],\n",
    "        [-0.2919085,  0.4456100,  0.8462985]])\n",
    "    output = rodrigues(input)\n",
    "    delta = np.sum(output - expected)\n",
    "    \n",
    "    input = np.array([[0, 0, 0]], dtype=np.float32)\n",
    "    expected = np.array([\n",
    "        [1, 0,  0],\n",
    "        [0, 1, 0],\n",
    "        [0, 0, 1]])\n",
    "    output = rodrigues(input)\n",
    "    delta += np.sum(output - expected)\n",
    "\n",
    "    if (np.absolute(delta) < EPSILON):\n",
    "        print(cstr(\"rodrigues OK\"))\n",
    "    else:\n",
    "        print(rstr(\"rodrigues FAIL\"))\n",
    "\n",
    "utest_rodrigues()"
   ]
  }
 ],
 "metadata": {
  "interpreter": {
   "hash": "92e3dde21320b21078bf5b8c27013c99b8378d97a0c50fdf82b9dbd22849a6e8"
  },
  "kernelspec": {
   "display_name": "Python 3.9.7 64-bit ('3.9.7')",
   "language": "python",
   "name": "python3"
  },
  "language_info": {
   "codemirror_mode": {
    "name": "ipython",
    "version": 3
   },
   "file_extension": ".py",
   "mimetype": "text/x-python",
   "name": "python",
   "nbconvert_exporter": "python",
   "pygments_lexer": "ipython3",
   "version": "3.9.7"
  },
  "orig_nbformat": 4
 },
 "nbformat": 4,
 "nbformat_minor": 2
}
