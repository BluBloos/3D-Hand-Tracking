{
 "cells": [
  {
   "cell_type": "markdown",
   "metadata": {},
   "source": [
    "AUTHORS: Max Vincent and Noah Cabral"
   ]
  },
  {
   "cell_type": "markdown",
   "metadata": {},
   "source": [
    "# Disclaimer\n",
    "\n",
    "This Jupyter notebook is not meant to be run on Google Colab.\n",
    "It will only run on a local machine."
   ]
  },
  {
   "cell_type": "code",
   "execution_count": 7,
   "metadata": {},
   "outputs": [],
   "source": [
    "# import things.\n",
    "import os\n",
    "import pickle\n",
    "import imageio\n",
    "import numpy as np\n",
    "import time"
   ]
  },
  {
   "cell_type": "code",
   "execution_count": 8,
   "metadata": {},
   "outputs": [],
   "source": [
    "# This function assumes that out_dir exists with subfolders 'evaluation' and 'training', each of\n",
    "# which has subfolder 'color'.\n",
    "# NOTE(Noah): Set is either \"evaluation\" or \"training\"\n",
    "def parse_dataset(set, total_training_examples, dataset_dir, out_dir):\n",
    "  path = os.path.join(dataset_dir, set)\n",
    "  with open(os.path.join(path, 'anno_%s.pickle' % set), 'rb') as fi:\n",
    "      anno_all = pickle.load(fi)\n",
    "  valid_training_examples = 0\n",
    "  start_time = time.time()\n",
    "  path2 = out_dir\n",
    "  print(\"Begin single hand parse\")\n",
    "  for sample_id,anno in anno_all.items():\n",
    "    if sample_id > total_training_examples:\n",
    "      break\n",
    "    # format of the kp_visible array\n",
    "    '''\n",
    "    # 0: left wrist, 1-4: left thumb [tip to palm], 5-8: left index, ..., 17-20: left pinky,\n",
    "    # 21: right wrist, 22-25: right thumb, ..., 38-41: right pinky\n",
    "    '''\n",
    "    kp_visible = (anno['uv_vis'][:, 2] == 1)\n",
    "    case1 = np.sum(kp_visible[0:21])\n",
    "    case2 = np.sum(kp_visible[21:])\n",
    "\n",
    "    # NOTE(Noah): What cases are we invalidating?\n",
    "    #   cases where none of the hands are seen.\n",
    "    #   cases where two hands can be seen.\n",
    "    #   images that contain left hands.\n",
    "    one_hand = (case1 > 0 and case2 == 0) or (case1 == 0 and case2 > 0)\n",
    "    rightHand = case2 > 0\n",
    "    valid_case = one_hand and rightHand\n",
    "    if (valid_case):\n",
    "      valid_training_examples += 1\n",
    "      image = imageio.imread(os.path.join(path, 'color', '%.5d.png' % sample_id))        \n",
    "      filename = \"%.5d.png\" % sample_id\n",
    "      print(filename)\n",
    "      imageio.imwrite(os.path.join(path2,set,'color',filename),image)\n",
    "            \n",
    "  end_time = time.time()\n",
    "  print(\"Total elapsed time for parse =\", round(end_time - start_time, 2), \"s\")\n",
    "  print(\"valid %s count:\" % set, valid_training_examples)\n",
    "  # print(\"Amount of %s training examples = \" % set, round(valid_training_examples / total_training_examples * 100, 2), \"%\")"
   ]
  },
  {
   "cell_type": "code",
   "execution_count": null,
   "metadata": {},
   "outputs": [],
   "source": [
    "# TODO(Noah): These constants here are duplicates from src/HandTracking.ipynb.\n",
    "# we will want to modularize this code. \n",
    "TRAIN_TOTAL_COUNT = 41258\n",
    "EVALUATION_TOTAL_COUNT = 2728\n",
    "\n",
    "# NOTE: These are template lines. When doing actual dataset parsing, \n",
    "# we will want to change this.\n",
    "dataset_dir = os.path.join(\"..\", \"RHD_small\")\n",
    "TRAIN_TOTAL_COUNT = 203\n",
    "EVALUATION_TOTAL_COUNT = 203\n",
    "\n",
    "# NOTE: This is also a template line. When doing actual dataset parsing, \n",
    "# we will want to change this.\n",
    "out_dir = os.path.join(\"SHR_RHD\")\n",
    "\n",
    "os.mkdir(out_dir)\n",
    "os.mkdir(os.path.join(out_dir, \"evaluation\"))\n",
    "os.mkdir(os.path.join(out_dir, \"training\"))\n",
    "os.mkdir(os.path.join(out_dir, \"evaluation\", \"color\"))\n",
    "os.mkdir(os.path.join(out_dir, \"training\", \"color\"))\n",
    "\n",
    "set = \"evaluation\"\n",
    "parse_dataset(set, EVALUATION_TOTAL_COUNT, dataset_dir, out_dir)\n",
    "\n",
    "set = \"training\"\n",
    "parse_dataset(set, TRAIN_TOTAL_COUNT, dataset_dir, out_dir)"
   ]
  }
 ],
 "metadata": {
  "interpreter": {
   "hash": "92e3dde21320b21078bf5b8c27013c99b8378d97a0c50fdf82b9dbd22849a6e8"
  },
  "kernelspec": {
   "display_name": "Python 3.9.7 64-bit ('3.9.7')",
   "language": "python",
   "name": "python3"
  },
  "language_info": {
   "codemirror_mode": {
    "name": "ipython",
    "version": 3
   },
   "file_extension": ".py",
   "mimetype": "text/x-python",
   "name": "python",
   "nbconvert_exporter": "python",
   "pygments_lexer": "ipython3",
   "version": "3.9.7"
  },
  "orig_nbformat": 4
 },
 "nbformat": 4,
 "nbformat_minor": 2
}
